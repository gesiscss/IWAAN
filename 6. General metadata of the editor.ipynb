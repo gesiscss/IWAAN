{
 "cells": [
  {
   "cell_type": "code",
   "execution_count": null,
   "metadata": {
    "hide_input": true,
    "init_cell": true
   },
   "outputs": [
    {
     "data": {
      "application/javascript": [
       "IPython.notebook.execute_cells_below()"
      ],
      "text/plain": [
       "<IPython.core.display.Javascript object>"
      ]
     },
     "metadata": {},
     "output_type": "display_data"
    }
   ],
   "source": [
    "from IPython.display import display, Markdown as md, Javascript, HTML\n",
    "from datetime import datetime\n",
    "from utils.notebooks import get_date_slider_from_datetime, get_notebook_by_number\n",
    "from ipywidgets import interact, Output, widgets, Layout\n",
    "from ipywidgets.widgets import Dropdown, fixed\n",
    "\n",
    "%store -r the_page\n",
    "%store -r the_editor\n",
    "%store -r editor_inputname\n",
    "# %store -r calculator\n",
    "%store -r editors_conflicts\n",
    "\n",
    "# if ('the_page' not in locals() or \n",
    "#     'the_editor' not in locals() or \n",
    "#     'editor_inputname' not in locals() or \n",
    "#     'calculator' not in locals() or \n",
    "#     'editors_conflicts' not in locals()):\n",
    "    \n",
    "#     import pickle\n",
    "#     print(\"Loading default data...\")\n",
    "#     the_page = pickle.load(open(\"data/the_page.p\",'rb'))\n",
    "#     the_editor = pickle.load(open(\"data/the_editor.p\",'rb'))\n",
    "#     editor_inputname = pickle.load(open(\"data/editor_inputname.p\",'rb'))\n",
    "#     calculator = pickle.load(open(\"data/calculator.p\",'rb'))\n",
    "#     editors_conflicts = pickle.load(open(\"data/editors_conflicts.p\",'rb'))\n",
    "    \n",
    "display(Javascript('IPython.notebook.execute_cells_below()'))"
   ]
  },
  {
   "cell_type": "code",
   "execution_count": null,
   "metadata": {
    "hide_input": true
   },
   "outputs": [],
   "source": [
    "%%html\n",
    "<style>\n",
    "summary{\n",
    "    display:list-item;\n",
    "}\n",
    "</style>"
   ]
  },
  {
   "cell_type": "code",
   "execution_count": null,
   "metadata": {
    "hide_input": true
   },
   "outputs": [],
   "source": [
    "%%capture\n",
    "\n",
    "%load_ext autoreload\n",
    "%autoreload 2"
   ]
  },
  {
   "cell_type": "markdown",
   "metadata": {
    "hide_input": false,
    "solution2": "hidden",
    "solution2_first": true
   },
   "source": [
    "### <span style=\"color:green\"> Modules Imported </span>"
   ]
  },
  {
   "cell_type": "code",
   "execution_count": null,
   "metadata": {
    "hide_input": false,
    "solution2": "hidden"
   },
   "outputs": [],
   "source": [
    "## Modules Imported ##\n",
    "\n",
    "# Display\n",
    "from IPython.display import display, Markdown as md, clear_output\n",
    "from datetime import date\n",
    "import urllib\n",
    "\n",
    "# APIs\n",
    "from wikiwho_wrapper import WikiWho\n",
    "from external.wikipedia import WikipediaDV, WikipediaAPI\n",
    "from external.wikimedia import WikiMediaDV, WikiMediaAPI\n",
    "from external.xtools import XtoolsAPI, XtoolsDV\n",
    "\n",
    "# Data Processing\n",
    "import pickle\n",
    "import pandas as pd\n",
    "\n",
    "# Visualization tools\n",
    "import qgrid\n",
    "import matplotlib.pyplot as plt\n",
    "\n",
    "# Page views timeline\n",
    "from visualization.views_listener import ViewsListener\n",
    "\n",
    "# Change actions timeline\n",
    "from visualization.actions_listener import ActionsListener\n",
    "\n",
    "# Conflicts visualization\n",
    "from visualization.conflicts_listener import ConflictsListener, ConflictsActionListener\n",
    "from visualization.calculator_listener import ConflictCalculatorListener\n",
    "\n",
    "# Word cloud visualization\n",
    "from visualization.wordcloud_listener import WCListener, WCActionsListener\n",
    "from visualization.wordclouder import WordClouder\n",
    "\n",
    "# Wikipedia talk pages visualization\n",
    "from visualization.talks_listener import TalksListener\n",
    "from visualization.topics_listener import TopicsListener\n",
    "\n",
    "# Tokens ownership visualization\n",
    "from visualization.owned_listener import OwnedListener\n",
    "\n",
    "# To remove stopwords\n",
    "from visualization.editors_listener import remove_stopwords\n",
    "\n",
    "# Metrics management\n",
    "from metrics.conflict import ConflictManager\n",
    "from metrics.token import TokensManager\n",
    "\n",
    "# For language selection\n",
    "from utils.lngselection import abbreviation, lng_listener\n",
    "\n",
    "# Load the variables stored in the last notebook\n",
    "%store -r the_page\n",
    "#%store -r conflict_calculator\n",
    "#%store -r conflicts_by_editors\n",
    "%store -r editor_info\n",
    "%store -r editor_input_id\n",
    "%store -r lng_selected\n",
    "%store -r sources\n",
    "%store -r con_manager_all\n",
    "\n",
    "# # Check them if in the namespace, otherwise load the default data.\n",
    "# if ('the_page' not in locals() or  \n",
    "#     'conflict_calculator' not in locals() or \n",
    "#     'conflicts_by_editors' not in locals() or\n",
    "#     'editor_info' not in locals() or\n",
    "#     'editor_input_id' not in locals()):\n",
    "    \n",
    "#     print(\"Loading default data...\")\n",
    "#     the_page = pickle.load(open(\"data/the_page.p\",'rb'))\n",
    "#     conflict_calculator = pickle.load(open(\"data/calculator.p\",'rb'))\n",
    "#     conflicts_by_editors = pickle.load(open(\"data/editors_conflicts.p\",'rb'))\n",
    "#     editor_info = pickle.load(open(\"data/the_editor.p\",'rb'))\n",
    "#     editor_input_id = pickle.load(open(\"data/editor_inputname.p\",'rb'))"
   ]
  },
  {
   "cell_type": "code",
   "execution_count": null,
   "metadata": {
    "hide_input": true
   },
   "outputs": [],
   "source": [
    "display(md(f\"# ***Page: {the_page['title']} ({lng_selected.upper()})***\"))"
   ]
  },
  {
   "cell_type": "markdown",
   "metadata": {},
   "source": [
    "---\n",
    "\n",
    "# A.  Select an editor to analyze their conflicting editors"
   ]
  },
  {
   "cell_type": "markdown",
   "metadata": {
    "hide_input": true
   },
   "source": [
    "The table below presents the conflict score and other related  metrics per editor\n",
    "(*editor_id* and *editor* column). At the end you can select created pages of the editor \n",
    "in order to restart the analysis in a different page.\n",
    "\n",
    "<details>    \n",
    "    <summary style=\"cursor: pointer;font-weight:bold\">Columns description</summary>\n",
    "\n",
    "- **conflicts**: the total number of conflicts\n",
    "- **elegibles**: the total number of elegible actions performed by the editor\n",
    "- **conflict**: the sum of conflict scores of all actions divided by the number of elegible actions\n",
    "</details>"
   ]
  },
  {
   "cell_type": "code",
   "execution_count": null,
   "metadata": {
    "hide_input": true
   },
   "outputs": [],
   "source": [
    "def display_conflict_score(eleg_actions):\n",
    "    global listener\n",
    "        \n",
    "    listener = ConflictCalculatorListener(eleg_actions)\n",
    "\n",
    "    metrics = ['Conflict Score', 'Absolute Conflict Score', \n",
    "               'Conflict Ratio',  'Number of Conflicts', \n",
    "               'Total Elegible Actions', \n",
    "               'Total Conflict Time', 'Total Elegible Time', \n",
    "               'Time per Conflict Action', 'Time per Elegible Action']\n",
    "\n",
    "    display(md(f'*Total Page conflict score: {con_manager_all.get_page_conflict_score()}*'))\n",
    "\n",
    "    # Visualization\n",
    "    interact(listener.listen,\n",
    "             #_range = get_date_slider_from_datetime(eleg_actions['rev_time']),\n",
    "             _range1=widgets.DatePicker(description='Date starts', value=eleg_actions.sort_values('rev_time')['rev_time'].iloc[0], layout=Layout(width='25%')),\n",
    "             _range2=widgets.DatePicker(description='Date ends', value=eleg_actions.sort_values('rev_time')['rev_time'].iloc[-1], layout=Layout(width='25%')),\n",
    "             granularity=Dropdown(options=['Yearly', 'Monthly', 'Daily'], value='Daily'),\n",
    "             black=Dropdown(options=metrics, value='Conflict Score'),\n",
    "             red=Dropdown(options= ['None'] + metrics, value='None'))\n",
    "\n",
    "def select_editor(editor):\n",
    "    global editor_df\n",
    "    global the_editor\n",
    "    global editor_inputname\n",
    "\n",
    "    editor_inputname=editor\n",
    "    \n",
    "    wikipedia_dv = WikipediaDV(WikipediaAPI(lng=lng_selected))\n",
    "    try:\n",
    "        the_editor = wikipedia_dv.get_editor(int(editor_inputname))\n",
    "    except:\n",
    "        the_editor = wikipedia_dv.get_editor(editor_inputname[2:])\n",
    "\n",
    "    with out:\n",
    "        %store the_editor\n",
    "        %store editor_inputname\n",
    "\n",
    "        clear_output()\n",
    "        display(md(\"### Current Selection:\"))\n",
    "        \n",
    "        url = f'{wikipedia_dv.api.base}action=query&list=users&ususerids={editor_inputname}&usprop=blockinfo|editcount|registration|gender&format=json'\n",
    "        print(\"Editor's metadata can be found in:\")\n",
    "        print(url)\n",
    "        \n",
    "        if 'invalid' in the_editor:\n",
    "            display(f\"The editor {editor_inputname} was not found, try a different editor\")\n",
    "        else:\n",
    "            # display the data that will be passed to the next notebook\n",
    "            display(the_editor.to_frame('values'))\n",
    "            display(md(f\"#### Evolution of the Conflict Score of *{the_editor['name']}*\"))\n",
    "            \n",
    "            elegiblesActions = remove_stopwords(sources[\"elegibles_all\"], lng=lng_selected)\n",
    "            editor_df = elegiblesActions[elegiblesActions['editor'] == str(editor_inputname)].copy()\n",
    "\n",
    "\n",
    "            display_conflict_score(editor_df)\n",
    "\n",
    "\n",
    "def on_selection_change(change):\n",
    "    try:\n",
    "        select_editor(qg_obj.get_selected_df().iloc[0].name)\n",
    "    except:\n",
    "        print('Problem parsing the name. Execute the cell again and try a different editor.')\n",
    "\n",
    "qgrid.set_grid_option('maxVisibleRows', 5)\n",
    "qg_obj = qgrid.show_grid(editors_conflicts)\n",
    "qg_obj.observe(on_selection_change, names=['_selected_rows'])\n",
    "                       \n",
    "display(md(\"### Select one editor (row) to continue the demo:\"))\n",
    "display(md('**Recomendation:** select an editor with *many conflicts* and *mid-high conflict score*'))\n",
    "display(qg_obj)\n",
    "out = Output()\n",
    "display(out)\n",
    "select_editor(editor_inputname)"
   ]
  },
  {
   "cell_type": "markdown",
   "metadata": {},
   "source": [
    "In the above graph you can select the *date range* and *granularity* (yearly, montly) \n",
    "of the timeline (X-axis), and plot any of the following counts in the black and red lines:\n",
    "\n",
    "<details>    \n",
    "    <summary style=\"cursor: pointer;font-weight:bold\">Options description</summary>\n",
    "    \n",
    "- **Conflict Score**: the sum of conflict scores of all actions divided by the number of elegible actions\n",
    "- **Absolute Conflict Score**: the sum of conflict scores of all actions (without division)\n",
    "- **Conflict Ratio**: the count of all conflicts divided by the number of elegible actions\n",
    "- **Number of Conflicts**: the total number of conflicts\n",
    "- **Total Elegible Actions**: the total number of elegible actions\n",
    "- **Total Conflict Time**: the sum of all the times (*time_diff_secs*) that has been taken by conflict actions\n",
    "- **Total Elegible Time**: the sum of all the times (*time_diff_secs*) that has been taken by elegible actions\n",
    "- **Time per Conflict Action**: average time of conflict actions\n",
    "- **Time per Elegible Action**: average time of elegible actions\n",
    "</details>"
   ]
  },
  {
   "cell_type": "markdown",
   "metadata": {
    "solution2": "hidden",
    "solution2_first": true
   },
   "source": [
    "<span style=\"color: #626262\"> Try yourself! This is what will happen when you select an editor: </span>"
   ]
  },
  {
   "cell_type": "code",
   "execution_count": null,
   "metadata": {
    "solution2": "hidden"
   },
   "outputs": [],
   "source": [
    "### ---------------------------------------------------------------- ###\n",
    "### TRY YOURSELF! THIS IS WHAT WILL HAPPEN WHEN YOU SELECT AN EDITOR ###\n",
    "### ---------------------------------------------------------------- ###\n",
    "\n",
    "## Use the variable from the last notebook: conflicts_by_editors (pd.DataFrame)        ##\n",
    "## Display the dataframe using interactive grid, you could learn more through the doc: ##\n",
    "## https://qgrid.readthedocs.io/en/latest/                                             ##\n",
    "qgrid.set_grid_option('maxVisibleRows', 5)\n",
    "qgrid_init = qgrid.show_grid(editors_conflicts)\n",
    "display(qgrid_init)\n",
    "\n",
    "## Get the editor info with Wikipedia API (get_editor() method), more details you could check: ##\n",
    "## https://github.com/gesiscss/wikiwho_demo/blob/master/external/api.py                        ##\n",
    "## https://github.com/gesiscss/wikiwho_demo/blob/master/external/wikipedia.py                  ##\n",
    "wikipedia_dv = WikipediaDV(WikipediaAPI(lng=lng_selected))\n",
    "\n",
    "# This is an example editor index. You could change it manully by typing in a new index from\n",
    "# the above grid, e.g. 737021\n",
    "editor_input_id = editors_conflicts.index[1]\n",
    "\n",
    "# Get the editor's information in the form of pd.DataFrame\n",
    "editor_info = wikipedia_dv.get_editor(int(editor_input_id))\n",
    "\n",
    "## Display the basic information of the selected editor ##\n",
    "editor_url = f'{wikipedia_dv.api.base}action=query&list=users&ususerids={editor_input_id}&usprop=blockinfo|editcount|registration|gender&format=json'\n",
    "print(\"Editor's metadata can be found in:\")\n",
    "print(editor_url)\n",
    "display(md(\"### Current Selection:\"))\n",
    "display(editor_info.to_frame('values'))\n",
    "\n",
    "## Interactive evolution of conflict score of this editor, using ConflictCalculatorListener, more details see ##\n",
    "## https://github.com/gesiscss/wikiwho_demo/blob/master/visualization/calculator_listener.py                  ##\n",
    "display(md(f\"#### Evolution of the Conflict Score of *{editor_info['name']}*\"))\n",
    "\n",
    "# Dataframe containing the info for interactive\n",
    "elegibles_actions = remove_stopwords(sources[\"elegibles_all\"], lng=lng_selected)\n",
    "editor_df = elegibles_actions[elegibles_actions['editor'] == str(editor_input_id)].copy()\n",
    "           \n",
    "# Create a ConflictCalculatorListener instance.\n",
    "conflicts_cal_listener = ConflictCalculatorListener(editor_df)\n",
    "\n",
    "# Set parameters\n",
    "begin_date = date(2002, 3, 1)\n",
    "end_date = date(2019, 12, 16)\n",
    "frequency = 'Daily' # 'Yearly','Monthly', 'Weekly', 'Daily'\n",
    "\n",
    "# The metrics we need:\n",
    "# ['Conflict Score', 'Absolute Conflict Score', 'Conflict Ratio', 'Number of Conflicts',\n",
    "#  'Total Elegible Actions', 'Total Conflict Time', 'Total Elegible Time', \n",
    "# 'Time per Conflict Action', 'Time per Elegible Action', ('None')]\n",
    "# Note: only 'red_line' has 'None' option.\n",
    "black_line = 'Conflict Score'\n",
    "red_line = 'None'\n",
    "           \n",
    "print('Time range from', begin_date.strftime(\"%Y-%m-%d\"), 'to', end_date.strftime(\"%Y-%m-%d\"))\n",
    "print('Total Page conflict score:', con_manager_all.get_page_conflict_score())\n",
    "           \n",
    "conflicts_cal_listener.listen(\n",
    "    _range1 = begin_date, \n",
    "    _range2 = end_date,\n",
    "    granularity = frequency,\n",
    "    black = black_line,\n",
    "    red = red_line\n",
    ")\n",
    "           \n",
    "# store the editor_input_id and editor_info for the usage in next notebook\n",
    "%store editor_input_id\n",
    "%store editor_info"
   ]
  },
  {
   "cell_type": "markdown",
   "metadata": {},
   "source": [
    "---\n",
    "\n",
    "# B. Modified pages of an editor\n",
    "\n",
    "Provided through the Xtools API"
   ]
  },
  {
   "cell_type": "markdown",
   "metadata": {},
   "source": [
    "The following is some metadata about the creation and deletion\n",
    "of pages in Wikipedia by the editor."
   ]
  },
  {
   "cell_type": "code",
   "execution_count": null,
   "metadata": {
    "hide_input": true
   },
   "outputs": [],
   "source": [
    "# create and display the button\n",
    "button1 = widgets.Button(description=\"Get Modified Pages\", layout=Layout(width='160px'))\n",
    "display(button1)\n",
    "\n",
    "xtools_api = XtoolsAPI(lng=lng_selected)\n",
    "xtools_dv = XtoolsDV(xtools_api)\n",
    "def on_click_modified_pages(b):\n",
    "    with out1:\n",
    "        clear_output()\n",
    "        display(md(f\"***Editor: {the_editor['name']}***\"))        \n",
    "        try:\n",
    "            display(md('Loading data...'))\n",
    "            editor_info_xtools = xtools_dv.get_modified_pages_counts_per_editor(the_editor['name'])\n",
    "            clear_output()\n",
    "            display(md(f\"***Editor: {the_editor['name']}***\"))\n",
    "            url = f\"{xtools_dv.api.base}user/pages_count/{xtools_dv.api.project}/{urllib.parse.quote(the_editor['name'])}\"\n",
    "            print(url)            \n",
    "            display(editor_info_xtools.to_frame('value'))\n",
    "        except:\n",
    "            clear_output()\n",
    "            display(md(f'**There are no modified pages by this editor.**'))\n",
    "            \n",
    "out1 = Output()\n",
    "display(out1)\n",
    "\n",
    "# set the event\n",
    "button1.on_click(on_click_modified_pages)\n",
    "\n",
    "# trigger the event with the default value\n",
    "on_click_modified_pages(button1)"
   ]
  },
  {
   "cell_type": "markdown",
   "metadata": {
    "solution2": "hidden",
    "solution2_first": true
   },
   "source": [
    "<span style=\"color: #626262\"> Try yourself! This is what will happen when you click 'Get Modified Pages' button: </span>"
   ]
  },
  {
   "cell_type": "code",
   "execution_count": null,
   "metadata": {
    "solution2": "hidden"
   },
   "outputs": [],
   "source": [
    "### ---------------------------------------------------------------------------------- ###\n",
    "### TRY YOURSELF! THIS IS WHAT WILL HAPPEN WHEN YOU CLICK 'Get Modified Pages' BUTTON  ###\n",
    "### ---------------------------------------------------------------------------------- ###\n",
    "\n",
    "## This is the page you used and the editor you select in the above grid. ##\n",
    "print('Selected editor:', editor_info['name'])\n",
    "\n",
    "## User Xtools API to obtain the info of modified pages, more details see: ##\n",
    "## https://github.com/gesiscss/wikiwho_demo/blob/master/external/xtools.py ##\n",
    "## https://github.com/gesiscss/wikiwho_demo/blob/master/external/api.py    ##\n",
    "\n",
    "# Create a Xtools instance.\n",
    "xtoolsapi = XtoolsAPI(lng=lng_selected)\n",
    "xtoolsdv = XtoolsDV(xtoolsapi)\n",
    "\n",
    "# Try to do the retrieval.\n",
    "try:\n",
    "    display(md('Loading data...'))\n",
    "    \n",
    "    # Use 'get_modified_pages_counts_per_editor()' method to obtain data from Xtools.\n",
    "    editor_modify_pages = xtoolsdv.get_modified_pages_counts_per_editor(editor_info['name'])\n",
    "    clear_output()\n",
    "    print('Selected editor:', editor_info['name'])\n",
    "    \n",
    "    # Metadata.\n",
    "    url = f\"{xtoolsdv.api.base}user/pages_count/{xtoolsdv.api.project}/{urllib.parse.quote(editor_info['name'])}\"\n",
    "    print(url)\n",
    "    \n",
    "    # Display the result in the form of pd.DataFrame\n",
    "    display(editor_modify_pages.to_frame('value'))\n",
    "\n",
    "except:\n",
    "    clear_output()\n",
    "    display(md(f'**There are no modified pages by this editor.**'))"
   ]
  },
  {
   "cell_type": "markdown",
   "metadata": {
    "solution2": "hidden"
   },
   "source": [
    "---\n",
    "\n",
    "# C. Select one page created by an editor\n",
    "\n",
    "Provided through the Xtools API"
   ]
  },
  {
   "cell_type": "markdown",
   "metadata": {},
   "source": [
    "---\n",
    "\n",
    "# C. Select one page created by an editor\n",
    "\n",
    "Provided through the Xtools API\n",
    "\n",
    "The following table shows a list of created paged by the editor with some general \n",
    "information about the page:\n",
    "\n",
    "<details>    \n",
    "    <summary style=\"cursor: pointer;font-weight:bold\">Columns description</summary>\n",
    "    \n",
    "- *page_title*: title of the page\n",
    "- *page_len*: an estimated amount of words in the page\n",
    "- *rev_id*: the id of the last revision\n",
    "- *rev_len*: the number of revisions made on that page\n",
    "- *rev_timestamp*: the timestamp of the last revision (last modification)\n",
    "</details>"
   ]
  },
  {
   "cell_type": "code",
   "execution_count": null,
   "metadata": {
    "hide_input": true
   },
   "outputs": [],
   "source": [
    "def run_below(ev):\n",
    "    display(Javascript('Jupyter.notebook.execute_cells([19])'))\n",
    "\n",
    "button = widgets.Button(description=\"Get Pages Created By Editor\", layout=Layout(width='200px'))\n",
    "button.on_click(run_below)\n",
    "display(button)"
   ]
  },
  {
   "cell_type": "code",
   "execution_count": null,
   "metadata": {
    "hide_input": true
   },
   "outputs": [],
   "source": [
    "def select_page(page):\n",
    "    global the_page\n",
    "    page_inputname=page\n",
    "    \n",
    "    wikipedia_dv = WikipediaDV(WikipediaAPI(lng=lng_selected))\n",
    "    try:\n",
    "        the_page = wikipedia_dv.get_page(int(page_inputname))\n",
    "    except:\n",
    "        the_page = wikipedia_dv.get_page(page_inputname)\n",
    "\n",
    "    with out2:\n",
    "        %store the_page\n",
    "        clear_output()\n",
    "        display(md(\"### Current Selection:\"))\n",
    "        \n",
    "        if 'invalid' in the_page:\n",
    "            display(f\"The page {page_inputname} was not found, try a different page\")\n",
    "        else:\n",
    "            # display the data that will be passed to the first notebook\n",
    "            display(the_page.to_frame('values'))\n",
    "            display(HTML(f'<a href=\"{get_notebook_by_number(1)}\" target=\"_blank\">Go to the first workbook</a>'))\n",
    "\n",
    "def on_selection_change(change):\n",
    "    try:\n",
    "        select_page(qg_obj_new.get_selected_df().iloc[0].page_title)\n",
    "    except:\n",
    "        print('Problem parsing the name. Execute the cell again and try a different page.')\n",
    "        display(HTML(f'<a href=\"{get_notebook_by_number(1)}\" target=\"_blank\">Go to next workbook</a>'))\n",
    "\n",
    "display(md(f\"***Editor: {the_editor['name']}***\"))\n",
    "try:\n",
    "    display(md(\"Loading data...\"))\n",
    "    created_pages = xtools_dv.get_created_pages_per_editor(the_editor['name']).T\n",
    "    clear_output()\n",
    "    display(md(f\"***Editor: {the_editor['name']}***\"))\n",
    "    url = f\"{xtools_dv.api.base}user/pages/{xtools_dv.api.project}/{urllib.parse.quote(the_editor['name'])}\"\n",
    "    display(md(\"The metadata of pages created can be found in:\"))\n",
    "    print(url)\n",
    "except:\n",
    "    clear_output()\n",
    "    display(md(f'**There are no created pages by this editor.**'))\n",
    "    display(HTML(f'<a href=\"{get_notebook_by_number(1)}\" target=\"_blank\">Go to next workbook</a>'))\n",
    "\n",
    "           \n",
    "if 'created_pages' in locals():\n",
    "    out2 = Output()\n",
    "    qg_obj_new = qgrid.show_grid(created_pages[['page_title', 'page_len', 'rev_id', 'rev_len', 'rev_timestamp']])\n",
    "    qg_obj_new.observe(on_selection_change, names=['_selected_rows'])\n",
    "\n",
    "if 'qg_obj_new' in locals():\n",
    "    display(md(\"### Select one page row for the next notebook:\"))\n",
    "    display(qg_obj_new)\n",
    "    display(out2)"
   ]
  },
  {
   "cell_type": "markdown",
   "metadata": {
    "solution2": "hidden",
    "solution2_first": true
   },
   "source": [
    "<span style=\"color: #626262\"> Try yourself! This is what will happen when you click 'Get Pages Create by Editor' button: </span>"
   ]
  },
  {
   "cell_type": "code",
   "execution_count": null,
   "metadata": {
    "solution2": "hidden"
   },
   "outputs": [],
   "source": [
    "### ------------------------------------------------------------------------------------------- ###\n",
    "### TRY YOURSELF! THIS IS WHAT WILL HAPPEN WHEN YOU CLICK 'Get Pages Created By Editor' BUTTON  ###\n",
    "### ------------------------------------------------------------------------------------------- ###\n",
    "\n",
    "## This is the page you used and the editor you select in the above grid. ##\n",
    "print('Selected editor:', editor_info['name'])\n",
    "\n",
    "## Use Xtools API to obtain the info of created pages, more details see:   ##\n",
    "## https://github.com/gesiscss/wikiwho_demo/blob/master/external/xtools.py ##\n",
    "## https://github.com/gesiscss/wikiwho_demo/blob/master/external/api.py    ##\n",
    "\n",
    "# (If the selected editor has created a page before): try. (Otherwise): except.\n",
    "try:\n",
    "    # Use 'get_created_pages_per_editor()' method to get access to the pages info created by this editor.\n",
    "    print('Loading data...')\n",
    "    pages_created = xtoolsdv.get_created_pages_per_editor(editor_info['name']).T\n",
    "    clear_output()\n",
    "    print('Selected editor:', editor_info['name'])\n",
    "\n",
    "    # The corresponding metadata can be obtained by the following url:\n",
    "    url_created = f\"{xtoolsdv.api.base}user/pages/{xtoolsdv.api.project}/{urllib.parse.quote(editor_info['name'])}\"\n",
    "    print(\"The metadata of pages created can be found in:\")\n",
    "    print(url_created)\n",
    "\n",
    "    # Display the created pages information in qgrid.\n",
    "    display(qgrid.show_grid(pages_created[['page_title', 'page_len', 'rev_id', 'rev_len', 'rev_timestamp']]))\n",
    "\n",
    "except:\n",
    "    display(md(f'**There are no created pages by this editor.**'))\n",
    "    display(HTML(f'<a href=\"{get_notebook_by_number(1)}\" target=\"_blank\">Go to next workbook</a>'))\n",
    "\n",
    "## Select one page title you are interested in and use WikipediaAPI to approach the page basic information ##\n",
    "## More details please see:                                                                                ##\n",
    "## https://github.com/gesiscss/wikiwho_demo/blob/master/external/wikipedia.py                              ##\n",
    "## https://github.com/gesiscss/wikiwho_demo/blob/master/external/api.py                                    ##\n",
    "\n",
    "# Select one page by inputting its title, e.g. \"Michael Jenkins\":\n",
    "selected_page_title = pages_created['page_title'].iloc[0]\n",
    "\n",
    "# Create a WikipwdiaAPI(DV) instance.\n",
    "wikipediadv = WikipediaDV(WikipediaAPI(lng=lng_selected))\n",
    "\n",
    "# Search for the page basic information with the method \"get_page()\".\n",
    "# Note: global variable \"the_page\" will be changed!\n",
    "the_page = wikipedia_dv.get_page(selected_page_title)\n",
    "\n",
    "# Display the basic information of the page in pd.DataFrame\n",
    "if 'invalid' in the_page:\n",
    "    display(f\"The page {selected_page_title} was not found, try a different page\")\n",
    "else:\n",
    "    # Display the data that will be passed to the first notebook\n",
    "    # If you are interested in the code of \"get_notebook_by_number()\" function, please refer to\n",
    "    # https://github.com/gesiscss/wikiwho_demo/blob/master/utils/notebooks.py\n",
    "    print(\"Current selected page:\")\n",
    "    display(the_page.to_frame('values'))\n",
    "    display(HTML(f'<a href=\"{get_notebook_by_number(1)}\" target=\"_blank\">Go to the first workbook</a>'))"
   ]
  },
  {
   "cell_type": "code",
   "execution_count": null,
   "metadata": {
    "hide_input": true
   },
   "outputs": [],
   "source": [
    "re_hide = \"\"\"\n",
    "<script>\n",
    "var update_input_visibility = function () {\n",
    "    Jupyter.notebook.get_cells().forEach(function(cell) {\n",
    "        if (cell.metadata.hide_input) {\n",
    "            cell.element.find(\"div.input\").hide();\n",
    "        }\n",
    "    })\n",
    "};\n",
    "update_input_visibility();\n",
    "</script\n",
    "\"\"\"\n",
    "display(HTML(re_hide))\n",
    "\n",
    "scroll_to_top = \"\"\"\n",
    "<script>\n",
    "document.getElementById('notebook').scrollIntoView();\n",
    "</script\n",
    "\"\"\"\n",
    "display(HTML(scroll_to_top))"
   ]
  }
 ],
 "metadata": {
  "hide_input": false,
  "kernelspec": {
   "display_name": "Python 3",
   "language": "python",
   "name": "python3"
  },
  "language_info": {
   "codemirror_mode": {
    "name": "ipython",
    "version": 3
   },
   "file_extension": ".py",
   "mimetype": "text/x-python",
   "name": "python",
   "nbconvert_exporter": "python",
   "pygments_lexer": "ipython3"
  }
 },
 "nbformat": 4,
 "nbformat_minor": 2
}
