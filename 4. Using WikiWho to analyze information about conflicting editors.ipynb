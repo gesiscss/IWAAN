{
 "cells": [
  {
   "cell_type": "code",
   "execution_count": null,
   "metadata": {
    "hide_input": true,
    "init_cell": true
   },
   "outputs": [
    {
     "data": {
      "application/javascript": [
       "IPython.notebook.execute_cells_below()"
      ],
      "text/plain": [
       "<IPython.core.display.Javascript object>"
      ]
     },
     "metadata": {},
     "output_type": "display_data"
    }
   ],
   "source": [
    "from IPython.display import display, Javascript\n",
    "from datetime import datetime\n",
    "from utils.notebooks import get_date_slider_from_datetime\n",
    "from ipywidgets import interact, Output, widgets, Layout\n",
    "from ipywidgets.widgets import Dropdown\n",
    "\n",
    "%store -r the_page\n",
    "%store -r the_editor\n",
    "%store -r agg_actions\n",
    "%store -r editor_inputname\n",
    "#%store -r calculator\n",
    "%store -r editors_conflicts\n",
    "%store -r sources\n",
    "\n",
    "# if ('the_page' not in locals() or \n",
    "#     'the_editor' not in locals() or \n",
    "#     'agg_actions' not in locals() or \n",
    "#     'editor_inputname' not in locals() or \n",
    "#     'calculator' not in locals() or \n",
    "#     'editors_conflicts' not in locals()):\n",
    "    \n",
    "#     import pickle\n",
    "#     print(\"Loading default data...\")\n",
    "#     the_page = pickle.load(open(\"data/the_page.p\",'rb'))\n",
    "#     the_editor = pickle.load(open(\"data/the_editor.p\",'rb'))\n",
    "#     agg_actions = pickle.load(open(\"data/agg_actions.p\",'rb'))\n",
    "#     editor_inputname = pickle.load(open(\"data/editor_inputname.p\",'rb'))\n",
    "#     calculator = pickle.load(open(\"data/calculator.p\",'rb'))\n",
    "#     editors_conflicts = pickle.load(open(\"data/editors_conflicts.p\",'rb'))\n",
    "\n",
    "display(Javascript('IPython.notebook.execute_cells_below()'))"
   ]
  },
  {
   "cell_type": "code",
   "execution_count": null,
   "metadata": {
    "hide_input": true
   },
   "outputs": [],
   "source": [
    "%%html\n",
    "<style>\n",
    "summary{\n",
    "    display:list-item;\n",
    "}\n",
    "\n",
    ".widget-radio-box{\n",
    "    flex-direction: row;\n",
    "}\n",
    "\n",
    ".widget-radio-box input{\n",
    "    margin:0 6px 0 5px\n",
    "}\n",
    "</style>"
   ]
  },
  {
   "cell_type": "code",
   "execution_count": null,
   "metadata": {
    "hide_input": true
   },
   "outputs": [],
   "source": [
    "%%capture\n",
    "\n",
    "%load_ext autoreload\n",
    "%autoreload 2"
   ]
  },
  {
   "cell_type": "markdown",
   "metadata": {
    "hide_input": false,
    "solution2": "hidden",
    "solution2_first": true
   },
   "source": [
    "### <span style=\"color:green\"> Modules Imported </span>"
   ]
  },
  {
   "cell_type": "code",
   "execution_count": null,
   "metadata": {
    "hide_input": false,
    "solution2": "hidden"
   },
   "outputs": [],
   "source": [
    "## Modules Imported ##\n",
    "\n",
    "# Display\n",
    "from IPython.display import display, Markdown as md, clear_output\n",
    "from datetime import date\n",
    "import urllib\n",
    "\n",
    "# APIs\n",
    "from wikiwho_wrapper import WikiWho\n",
    "from external.wikipedia import WikipediaDV, WikipediaAPI\n",
    "from external.wikimedia import WikiMediaDV, WikiMediaAPI\n",
    "from external.xtools import XtoolsAPI, XtoolsDV\n",
    "\n",
    "# Data Processing\n",
    "import pickle\n",
    "import pandas as pd\n",
    "\n",
    "# Visualization tools\n",
    "import qgrid\n",
    "import matplotlib.pyplot as plt\n",
    "\n",
    "# Page views timeline\n",
    "from visualization.views_listener import ViewsListener\n",
    "\n",
    "# Change actions timeline\n",
    "from visualization.actions_listener import ActionsListener\n",
    "\n",
    "# Conflicts visualization\n",
    "from visualization.conflicts_listener import ConflictsListener, ConflictsActionListener\n",
    "from visualization.calculator_listener import ConflictCalculatorListener\n",
    "\n",
    "# Word cloud visualization\n",
    "from visualization.wordcloud_listener import WCListener, WCActionsListener\n",
    "from visualization.wordclouder import WordClouder\n",
    "\n",
    "# Wikipedia talk pages visualization\n",
    "from visualization.talks_listener import TalksListener\n",
    "from visualization.topics_listener import TopicsListener\n",
    "\n",
    "# Tokens ownership visualization\n",
    "from visualization.owned_listener import OwnedListener\n",
    "\n",
    "# To remove stopwords\n",
    "from visualization.editors_listener import remove_stopwords\n",
    "\n",
    "# Metrics management\n",
    "from metrics.conflict import ConflictManager\n",
    "from metrics.token import TokensManager\n",
    "\n",
    "# For language selection\n",
    "from utils.lngselection import abbreviation, lng_listener\n",
    "\n",
    "# Load the variables stored in the last notebook\n",
    "%store -r the_page\n",
    "%store -r total_actions\n",
    "#%store -r conflict_calculator\n",
    "#%store -r conflicts_by_editors\n",
    "%store -r editor_info\n",
    "%store -r editor_input_id\n",
    "%store -r lng_selected\n",
    "%store -r con_manager_all\n",
    "%store -r sources\n",
    "\n",
    "# # Check them if in the namespace, otherwise load the default data.\n",
    "# if ('the_page' not in locals() or \n",
    "#     'total_actions' not in locals() or \n",
    "#     'conflict_calculator' not in locals() or \n",
    "#     'conflicts_by_editors' not in locals() or\n",
    "#     'editor_info' not in locals() or\n",
    "#     'editor_input_id' not in locals()):\n",
    "    \n",
    "#     print(\"Loading default data...\")\n",
    "#     the_page = pickle.load(open(\"data/the_page.p\",'rb'))\n",
    "#     total_actions = pickle.load(open(\"data/agg_actions.p\",'rb'))\n",
    "#     conflict_calculator = pickle.load(open(\"data/calculator.p\",'rb'))\n",
    "#     conflicts_by_editors = pickle.load(open(\"data/editors_conflicts.p\",'rb'))\n",
    "#     editor_info = pickle.load(open(\"data/the_editor.p\",'rb'))\n",
    "#     editor_input_id = pickle.load(open(\"data/editor_inputname.p\",'rb'))"
   ]
  },
  {
   "cell_type": "code",
   "execution_count": null,
   "metadata": {
    "hide_input": true
   },
   "outputs": [],
   "source": [
    "display(md(f\"# ***Page: {the_page['title']} ({lng_selected.upper()})***\"))"
   ]
  },
  {
   "cell_type": "markdown",
   "metadata": {},
   "source": [
    "---\n",
    "\n",
    "# A.  Select an editor to analyze their conflicting editors"
   ]
  },
  {
   "cell_type": "markdown",
   "metadata": {},
   "source": [
    "The table below presents the conflict score and other related  metrics per editor \n",
    "(*editor_id* and *editor* column). Select one editor to analyze the editors that enter into \n",
    "conflict with her:\n",
    "\n",
    "<details>    \n",
    "    <summary style=\"cursor: pointer;font-weight:bold\">Columns description</summary>\n",
    "\n",
    "- **conflicts**: the total number of conflicts\n",
    "- **elegibles**: the total number of elegible actions performed by the editor\n",
    "- **conflict**: the sum of conflict scores of all actions divided by the number of elegible actions\n",
    "</details>"
   ]
  },
  {
   "cell_type": "code",
   "execution_count": null,
   "metadata": {
    "hide_input": true
   },
   "outputs": [],
   "source": [
    "def display_conflict_score(eleg_actions):\n",
    "    global listener\n",
    "    \n",
    "    \n",
    "    listener = ConflictCalculatorListener(eleg_actions)\n",
    "\n",
    "    metrics = ['Conflict Score', 'Absolute Conflict Score', \n",
    "               'Conflict Ratio',  'Number of Conflicts', \n",
    "               'Total Elegible Actions', \n",
    "               'Total Conflict Time', 'Total Elegible Time', \n",
    "               'Time per Conflict Action', 'Time per Elegible Action']\n",
    "\n",
    "    #display(md(f'*Total Page conflict score: {calculator.get_page_conflict_score()}*'))\n",
    "\n",
    "    # Visualization\n",
    "\n",
    "    interact(listener.listen,\n",
    "             #_range = get_date_slider_from_datetime(eleg_actions['rev_time']),\n",
    "             _range1=widgets.DatePicker(description='Date starts', value=eleg_actions.sort_values('rev_time')['rev_time'].iloc[0], layout=Layout(width='25%')),\n",
    "             _range2=widgets.DatePicker(description='Date ends', value=eleg_actions.sort_values('rev_time')['rev_time'].iloc[-1], layout=Layout(width='25%')),\n",
    "             granularity=Dropdown(options=['Yearly', 'Monthly', 'Daily'], value='Daily'),\n",
    "             black=Dropdown(options=metrics, value='Conflict Score'),\n",
    "             red=Dropdown(options= ['None'] + metrics, value='None'))\n",
    "\n",
    "def select_editor(editor):\n",
    "    global editor_df\n",
    "    global the_editor\n",
    "    global editor_inputname\n",
    "\n",
    "    editor_inputname=editor\n",
    "    \n",
    "    wikipedia_dv = WikipediaDV(WikipediaAPI(lng=lng_selected))\n",
    "    try:\n",
    "        the_editor = wikipedia_dv.get_editor(int(editor_inputname))\n",
    "    except:\n",
    "        the_editor = wikipedia_dv.get_editor(editor_inputname[2:])\n",
    "\n",
    "    with out:\n",
    "        %store the_editor\n",
    "        %store editor_inputname\n",
    "\n",
    "        clear_output()\n",
    "        display(md(\"### Current Selection:\"))\n",
    "        \n",
    "        url = f'{wikipedia_dv.api.base}action=query&list=users&ususerids={editor_inputname}&usprop=blockinfo|editcount|registration|gender&format=json'\n",
    "        print(\"Editor's metadata can be found in:\")\n",
    "        print(url)\n",
    "        if 'invalid' in the_editor:\n",
    "            display(f\"The editor {editor_inputname} was not found, try a different editor\")\n",
    "        else:\n",
    "            # display the data that will be passed to the next notebook\n",
    "            display(the_editor.to_frame('values'))\n",
    "            display(md(f\"#### Evolution of the Conflict Score of *{the_editor['name']}*\"))\n",
    "            \n",
    "            elegible_actions = remove_stopwords(sources['elegibles_all'], lng=lng_selected)\n",
    "\n",
    "            editor_df = elegible_actions[\n",
    "                elegible_actions['editor'] == str(editor_inputname)].copy()\n",
    "\n",
    "            display_conflict_score(editor_df)\n",
    "\n",
    "\n",
    "def on_selection_change(change):\n",
    "\n",
    "    try:\n",
    "        select_editor(qg_obj.get_selected_df().iloc[0].name)\n",
    "    except:\n",
    "        print('Problem parsing the name. Execute the cell again and try a different editor.')\n",
    "\n",
    "\n",
    "qgrid.set_grid_option('maxVisibleRows', 5)\n",
    "qg_obj = qgrid.show_grid(editors_conflicts)\n",
    "qg_obj.observe(on_selection_change, names=['_selected_rows'])\n",
    "                       \n",
    "display(md(\"### Select one editor (row) to continue the demo:\"))\n",
    "display(md('**Recomendation:** select an editor with *many conflicts* and *mid-high conflict score*'))\n",
    "display(qg_obj)\n",
    "out = Output()\n",
    "display(out)\n",
    "\n",
    "select_editor(editor_inputname)"
   ]
  },
  {
   "cell_type": "markdown",
   "metadata": {},
   "source": [
    "In the above graph you can select the *date range* and *granularity* (yearly, montly) \n",
    "of the timeline (X-axis), and plot any of the following counts in the black and red lines:\n",
    "\n",
    "<details>    \n",
    "    <summary style=\"cursor: pointer;font-weight:bold\">Options description</summary>\n",
    "    \n",
    "- **Conflict Score**: the sum of conflict scores of all actions divided by the number of elegible actions\n",
    "- **Absolute Conflict Score**: the sum of conflict scores of all actions (without division)\n",
    "- **Conflict Ratio**: the count of all conflicts divided by the number of elegible actions\n",
    "- **Number of Conflicts**: the total number of conflicts\n",
    "- **Total Elegible Actions**: the total number of elegible actions\n",
    "- **Total Conflict Time**: the sum of all the time (*time_diff_secs*) that has been taken by conflict actions\n",
    "- **Total Elegible Time**: the sum of all the time (*time_diff_secs*) that has been taken by elegible actions\n",
    "- **Time per Conflict Action**: average time of conflict actions\n",
    "- **Time per Elegible Action**: average time of elegible actions\n",
    "</details>"
   ]
  },
  {
   "cell_type": "markdown",
   "metadata": {
    "solution2": "hidden",
    "solution2_first": true
   },
   "source": [
    "<span style=\"color: #626262\"> Try yourself! This is what will happen when you select an editor: </span>"
   ]
  },
  {
   "cell_type": "code",
   "execution_count": null,
   "metadata": {
    "hide_input": false,
    "solution2": "hidden"
   },
   "outputs": [],
   "source": [
    "### ----------------------------------------------------------------- ###\n",
    "### TRY YOURSELF! THIS IS WHAT WILL HAPPEN WHEN YOU SELECT AN EDITOR  ###\n",
    "### ----------------------------------------------------------------- ###\n",
    "\n",
    "## This is the page you used ##\n",
    "print('The page that is being used:', the_page['title'], f'({lng_selected.upper()})')\n",
    "\n",
    "## Use the variable from the last notebook: conflicts_by_editors (pd.DataFrame)        ##\n",
    "## Display the dataframe using interactive grid, you could learn more through the doc: ##\n",
    "## https://qgrid.readthedocs.io/en/latest/                                             ##\n",
    "qgrid.set_grid_option('maxVisibleRows', 5)\n",
    "qgrid_init = qgrid.show_grid(editors_conflicts)\n",
    "display(qgrid_init)\n",
    "\n",
    "## Get the editor info with Wikipedia API (get_editor() method), more details you could check: ##\n",
    "## https://github.com/gesiscss/wikiwho_demo/blob/master/external/api.py                        ##\n",
    "## https://github.com/gesiscss/wikiwho_demo/blob/master/external/wikipedia.py                  ##\n",
    "wikipedia_dv = WikipediaDV(WikipediaAPI(lng=lng_selected))\n",
    "\n",
    "# This is an example editor index. You could change it manully by typing in a new index from\n",
    "# the above grid, e.g. 737021\n",
    "editor_input_id = editors_conflicts.index[1]\n",
    "\n",
    "# Get the editor's information in the form of pd.DataFrame\n",
    "editor_info = wikipedia_dv.get_editor(int(editor_input_id))\n",
    "\n",
    "## Display the basic information of the selected editor ##\n",
    "editor_url = f'{wikipedia_dv.api.base}action=query&list=users&ususerids={editor_input_id}&usprop=blockinfo|editcount|registration|gender&format=json'\n",
    "print(\"Editor's metadata can be found in:\")\n",
    "print(editor_url)\n",
    "display(md(\"### Current Selection:\"))\n",
    "display(editor_info.to_frame('values'))\n",
    "\n",
    "## Interactive evolution of conflict score of this editor, using ConflictCalculatorListener, more details see ##\n",
    "## https://github.com/gesiscss/wikiwho_demo/blob/master/visualization/calculator_listener.py                  ##\n",
    "display(md(f\"#### Evolution of the Conflict Score of *{editor_info['name']}*\"))\n",
    "\n",
    "# Dataframe containing the elegible actions info of the editor for interactive.\n",
    "elegibleActions = remove_stopwords(sources[\"elegibles_all\"], lng=lng_selected)\n",
    "editor_df = elegibleActions[elegibleActions['editor'] == str(editor_input_id)].copy()\n",
    "           \n",
    "# Create a ConflictCalculatorListener instance.\n",
    "conflicts_cal_listener = ConflictCalculatorListener(editor_df)\n",
    "\n",
    "# Set parameters.\n",
    "begin_date = date(2005, 3, 1)\n",
    "end_date = date(2019, 6, 1)\n",
    "frequency = 'Daily' # 'Monthly', 'Daily'\n",
    "\n",
    "# The metrics we need:\n",
    "# ['Conflict Score', 'Absolute Conflict Score', 'Conflict Ratio', 'Number of Conflicts',\n",
    "#  'Total Elegible Actions', 'Total Conflict Time', 'Total Elegible Time', \n",
    "# 'Time per Conflict Action', 'Time per Elegible Action', ('None')]\n",
    "# Note: only 'red_line' has 'None' option.\n",
    "black_line = 'Conflict Score'\n",
    "red_line = 'None'\n",
    "           \n",
    "print('Time range from', begin_date.strftime(\"%Y-%m-%d\"), 'to', end_date.strftime(\"%Y-%m-%d\"))\n",
    "           \n",
    "conflicts_cal_listener.listen(\n",
    "    _range1 = begin_date,\n",
    "    _range2 = end_date,\n",
    "    granularity = frequency,\n",
    "    black = black_line,\n",
    "    red = red_line\n",
    ")\n",
    "           \n",
    "# store the editor_input_id and editor_info for the usage in next notebook.\n",
    "%store editor_input_id\n",
    "%store editor_info"
   ]
  },
  {
   "cell_type": "markdown",
   "metadata": {},
   "source": [
    "---\n",
    "\n",
    "# B. Detecting conflicting editors"
   ]
  },
  {
   "cell_type": "code",
   "execution_count": null,
   "metadata": {
    "hide_input": true
   },
   "outputs": [],
   "source": [
    "display(md(f\"***Page: {the_page['title']} ({lng_selected.upper()})***\"))"
   ]
  },
  {
   "cell_type": "markdown",
   "metadata": {},
   "source": [
    "If the editor undo the action of editor B, editor B is called \n",
    "a conflicting editor. The following table shows the conflicting editors including their conflict score and other related metrics (see section A).\n",
    "\n",
    "<details>    \n",
    "    <summary style=\"cursor: pointer;font-weight:bold\">Columns description</summary>\n",
    "\n",
    "- **conflict_n**: the total number of conflicts\n",
    "- **conflict**: the sum of conflict scores of all actions (without division)\n",
    "- **actions**: the total number of actions performed by the editor\n",
    "- **conflict_score**: the sum of conflict scores of all actions divided by the number of elegible actions\n",
    "- **conflict_ratio**: the count of all conflicts divided by the number of elegible actions"
   ]
  },
  {
   "cell_type": "code",
   "execution_count": null,
   "metadata": {
    "hide_input": true
   },
   "outputs": [],
   "source": [
    "# create and display the button\n",
    "button1 = widgets.Button(description=\"Show Conflicting Editors\", layout=Layout(width='180px'))\n",
    "display(button1)\n",
    "\n",
    "def on_click_detect(b):\n",
    "    global editors\n",
    "    global conflicting_actions\n",
    "    with out1:\n",
    "        clear_output()\n",
    "        display(md(f\"***Editor: {the_editor['name']}***\"))\n",
    "\n",
    "        conflicting_actions = con_manager_all.get_conflicting_actions(str(editor_inputname))\n",
    "        conflicting_actions = remove_stopwords(conflicting_actions, lng=lng_selected)\n",
    "\n",
    "        wikipedia_dv = WikipediaDV(WikipediaAPI(lng=lng_selected))\n",
    "\n",
    "        conflicting_editors = conflicting_actions['editor'].unique().tolist()\n",
    "\n",
    "        editors = wikipedia_dv.get_editors([int(x) for x in conflicting_editors if x[:2] != '0|'])\n",
    "        if len(editors) == 0:\n",
    "            print('There is no other registered conflicting editor. Please try another one!')\n",
    "        else:\n",
    "            editors['userid'] = editors['userid'].astype('str')\n",
    "            full_editors_conflicts = con_manager_all.get_conflict_score_per_editor()\n",
    "            display(editors[['userid','name','registration']].merge( full_editors_conflicts, \n",
    "                            right_index=True, left_on='userid',how='left').set_index('userid'))\n",
    "                   \n",
    "                   \n",
    "out1 = Output()\n",
    "display(out1)\n",
    "\n",
    "# set the event\n",
    "button1.on_click(on_click_detect)\n",
    "\n",
    "# trigger the event with the default value\n",
    "on_click_detect(button1)"
   ]
  },
  {
   "cell_type": "markdown",
   "metadata": {
    "solution2": "hidden",
    "solution2_first": true
   },
   "source": [
    "<span style=\"color: #626262\"> Try yourself! This is what will happen when you click 'Show Conflicting Editors' button: </span>"
   ]
  },
  {
   "cell_type": "code",
   "execution_count": null,
   "metadata": {
    "hide_input": false,
    "solution2": "hidden"
   },
   "outputs": [],
   "source": [
    "### ---------------------------------------------------------------------------------------- ###\n",
    "### TRY YOURSELF! THIS IS WHAT WILL HAPPEN WHEN YOU CLICK 'Show Conflicting Editors' BUTTON  ###\n",
    "### ---------------------------------------------------------------------------------------- ###\n",
    "\n",
    "## This is the page you used and the editor you select in the above grid. ##\n",
    "print('The page that is being used:', the_page['title'], f'({lng_selected.upper()})')\n",
    "print('Selected editor:', editor_info['name'])\n",
    "\n",
    "## Get the conflicting editors ##\n",
    "\n",
    "# Get all conflcting actions of all editors through the instance 'conflict_calculator'\n",
    "# created in the second notebook. Use the 'get_conflicting_actions()' method.\n",
    "all_conflict_actions = con_manager_all.get_conflicting_actions(str(editor_input_id))\n",
    "all_conflict_actions = remove_stopwords(all_conflict_actions, lng=lng_selected)\n",
    "\n",
    "# Get a list of conflicting editors.\n",
    "all_conflict_editors = all_conflict_actions['editor'].unique().tolist()\n",
    "\n",
    "# Eliminate the unregistered editors\n",
    "final_editors = wikipedia_dv.get_editors([int(x) for x in all_conflict_editors if x[:2] != '0|'])\n",
    "\n",
    "# Check if the conflicting editor's list is empty.\n",
    "if len(final_editors) == 0:\n",
    "    print('There is no other registered conflicting editor. Please try another one!')\n",
    "else:\n",
    "    final_editors['userid'] = final_editors['userid'].astype('str')\n",
    "    \n",
    "    # Conflict score for every editor.\n",
    "    all_editors_conflicts = con_manager_all.get_conflict_score_per_editor()\n",
    "    \n",
    "    # Integrate conflicting information into the editors' basic info table. \n",
    "    display(final_editors[['userid','name','registration']].merge(all_editors_conflicts, \n",
    "                             right_index=True, left_on='userid', how='left').set_index('userid'))"
   ]
  },
  {
   "cell_type": "markdown",
   "metadata": {},
   "source": [
    "---\n",
    "\n",
    "# C. Activity of conflicting editors"
   ]
  },
  {
   "cell_type": "code",
   "execution_count": null,
   "metadata": {
    "hide_input": true
   },
   "outputs": [],
   "source": [
    "display(md(f\"***Page: {the_page['title']} ({lng_selected.upper()})***\"))"
   ]
  },
  {
   "cell_type": "markdown",
   "metadata": {},
   "source": [
    "In the following graph you can select the conflicting *editor*, *date range* and \n",
    "*granularity* (yearly, montly) of the timeline (X-axis), and plot any of the follow counts in \n",
    "the black, red, blue and green lines:\n",
    "\n",
    "\n",
    "<details>    \n",
    "    <summary style=\"cursor: pointer;font-weight:bold\">Options description</summary>\n",
    "\n",
    "- **adds**: number of first-time insertions\n",
    "- **adds_surv_48h**: number of insertions for the first time that survived at least 48 hours\n",
    "- **adds_persistent**:  number of insertions for the first time that survived until, at least, the end of the month\n",
    "- **adds_stopword_count**:  number of insertions that were stop words\n",
    "- **dels**: number of deletions\n",
    "- **dels_surv_48h**: number of deletions that were not resinserted in the next 48 hours\n",
    "- **dels_persistent**: number of deletions that were not resinserted until, at least, the end of the month\n",
    "- **dels_stopword_count**: number of deletions that were stop words\n",
    "- **reins**: number of reinsertions\n",
    "- **reins_surv_48h**: number of reinsertionsthat survived at least 48 hours\n",
    "- **reins_persistent**: number of reinsertionsthat survived until the end of the month\n",
    "- **reins_stopword_count**: number of reinsertionsthat were stop words"
   ]
  },
  {
   "cell_type": "code",
   "execution_count": null,
   "metadata": {
    "hide_input": true
   },
   "outputs": [],
   "source": [
    "# create and display the button\n",
    "button2 = widgets.Button(description=\"Show Conflicting Editors Activities\", layout=Layout(width='230px'))\n",
    "display(button2)\n",
    "\n",
    "def on_click_con_editor_act(b):\n",
    "    global editors\n",
    "    global conf_editor_agg_actions\n",
    "    with out2:\n",
    "        clear_output()\n",
    "        display(md(f\"***Editor: {the_editor['name']}***\"))\n",
    "        if len(editors) == 0:\n",
    "            print('There is no other registered conflicting editor. Please try another one!')\n",
    "        else:\n",
    "            editors['userid'] = editors['userid'].astype('int')\n",
    "            conf_editor_agg_actions = editors[['userid','name','registration']].merge(agg_actions, \n",
    "                     left_on='userid', right_on='editor_id', how='left').set_index('userid')\n",
    "\n",
    "            # Listener\n",
    "            listener = ActionsListener(sources, lng=lng_selected)\n",
    "            listener.actions_one_editor = conf_editor_agg_actions\n",
    "            actions = (conf_editor_agg_actions.loc[:,'total':'total_stopword_count'].columns.append(\n",
    "                conf_editor_agg_actions.loc[:,'adds':'reins_stopword_count'].columns)).values.tolist()\n",
    "\n",
    "            # Visualization\n",
    "            interact(listener.actions_listen, \n",
    "                     #_range = get_date_slider_from_datetime(conf_editor_agg_actions['year_month']),\n",
    "                     _range1=widgets.DatePicker(description='Date starts', value=conf_editor_agg_actions.sort_values('rev_time')['rev_time'].iloc[0], layout=Layout(width='25%')),\n",
    "                     _range2=widgets.DatePicker(description='Date ends', value=conf_editor_agg_actions.sort_values('rev_time')['rev_time'].iloc[-1], layout=Layout(width='25%')),\n",
    "                     editor=Dropdown(options=['All'] + editors['name'].values.tolist(), value='All'),\n",
    "                     granularity=Dropdown(options=['Yearly', 'Monthly', \"Weekly\", \"Daily\"], value='Monthly'),\n",
    "                     black=Dropdown(options=actions, value='total'), \n",
    "                     red=Dropdown(options= ['None'] + actions, value='total_surv_48h'),\n",
    "                     green=Dropdown(options= ['None'] + actions, value='None'), \n",
    "                     blue=Dropdown(options= ['None'] + actions, value='None'))\n",
    "\n",
    "out2 = Output()\n",
    "display(out2)\n",
    "\n",
    "# set the event\n",
    "button2.on_click(on_click_con_editor_act)\n",
    "\n",
    "# trigger the event with the default value\n",
    "on_click_con_editor_act(button2)"
   ]
  },
  {
   "cell_type": "markdown",
   "metadata": {
    "hide_input": true,
    "solution2": "hidden",
    "solution2_first": true
   },
   "source": [
    "<span style=\"color: #626262\"> Try yourself! This is what will happen when you click 'Show Conflicting Editors Activities' button: </span>"
   ]
  },
  {
   "cell_type": "code",
   "execution_count": null,
   "metadata": {
    "hide_input": false,
    "solution2": "hidden"
   },
   "outputs": [],
   "source": [
    "### ----------------------------------------------------------------------------------------------------- ###\n",
    "### TRY YOURSELF! THIS IS WHAT WILL HAPPEN WHEN YOU CLICK 'Show Conflicting Editors Activities' BUTTON    ###\n",
    "### ----------------------------------------------------------------------------------------------------- ###\n",
    "\n",
    "## This is the page you used and the editor you select in the above grid. ##\n",
    "print('The page that is being used:', the_page['title'], f'({lng_selected.upper()})')\n",
    "print('Selected editor:', editor_info['name'])\n",
    "\n",
    "## First check if the list is empty. ##\n",
    "if len(final_editors) == 0:\n",
    "    print('There is no other registered conflicting editor. Please try another one!')\n",
    "else:\n",
    "    print('Available Conflicting Editors:', final_editors['name'].tolist())\n",
    "    \n",
    "    ## Merge editors' total actions information into 'final_editors' table. ##\n",
    "    final_editors['userid'] = final_editors['userid'].astype('int')\n",
    "    conf_editor_total_actions = final_editors[['userid','name','registration']].merge(total_actions, \n",
    "                                             left_on='userid', right_on='editor_id', how='left').set_index('userid')\n",
    "    \n",
    "    ## Visualization, core visual code lies in ActionsListener, then the interact function    ##\n",
    "    ## make it interactive, mode details see:                                                 ##\n",
    "    ## https://github.com/gesiscss/wikiwho_demo/blob/master/visualization/actions_listener.py ##\n",
    "    \n",
    "    # Create an ActionsListener instance.\n",
    "    actionslistener = ActionsListener(sources, lng=lng_selected)\n",
    "    actionslistener.actions_one_editor = conf_editor_total_actions\n",
    "    \n",
    "    # What types of these actions?\n",
    "    actions_types = (conf_editor_total_actions.loc[:,'total':'total_stopword_count'].columns.append(\n",
    "                        conf_editor_total_actions.loc[:,'adds':'reins_stopword_count'].columns)).values.tolist()\n",
    "    \n",
    "    # Visualization: try yourself by coding!\n",
    "    begin_date = date(2002, 3, 1)\n",
    "    end_date = date(2019, 4, 1)\n",
    "    editor_name = 'All' # Select one conflicting name from the above name list, or 'All'!\n",
    "    frequency = 'Monthly' # 'Yearly', 'Monthly', 'Weekly', 'Daily'\n",
    "    black_line = 'adds' # Choose one from 'actions_types'. Note that 'black_line doesn't have 'None' option but others have.\n",
    "    red_line = 'dels'\n",
    "    blue_line = 'None'\n",
    "    green_line = 'None'\n",
    "    \n",
    "    print('Time range from', begin_date.strftime(\"%Y-%m-%d\"), 'to', end_date.strftime(\"%Y-%m-%d\"))\n",
    "    print(\"Current editor's name is\", editor_name)\n",
    "    \n",
    "    actionslistener.actions_listen(\n",
    "        _range1 = begin_date,\n",
    "        _range2 = end_date,\n",
    "        editor = editor_name,\n",
    "        granularity = frequency,\n",
    "        black = black_line,\n",
    "        red = red_line,\n",
    "        blue = blue_line,\n",
    "        green = green_line)"
   ]
  },
  {
   "cell_type": "markdown",
   "metadata": {},
   "source": [
    "---\n",
    "\n",
    "# D. Tokens of conflicting editors"
   ]
  },
  {
   "cell_type": "code",
   "execution_count": null,
   "metadata": {
    "hide_input": true
   },
   "outputs": [],
   "source": [
    "display(md(f\"***Page: {the_page['title']} ({lng_selected.upper()})***\"))"
   ]
  },
  {
   "cell_type": "markdown",
   "metadata": {
    "hide_input": false
   },
   "source": [
    "The WordCloud displays the most common token strings (words) that a particular editor \n",
    "inserted or deleted and that enter into conflict with other editors. The size of the token string in \n",
    "the WordCloud indicates frequency of actions.\n",
    "\n",
    "In the controls, you can select the conflicting *editor*, the *date range*, the type of *action* \n",
    "(insertion or deletion), and the *source*.\n",
    "\n",
    "\n",
    "<details>    \n",
    "    <summary style=\"cursor: pointer;font-weight:bold\">Source description</summary>\n",
    "    \n",
    "-   **Only Conflicts**: use only the actions that are in conflict\n",
    "-   **All Undos**: use all actions that involve and undo <mark> *Question: Should it be \"Elegible Actions?\"* </mark>\n",
    "</details>"
   ]
  },
  {
   "cell_type": "code",
   "execution_count": null,
   "metadata": {
    "hide_input": true
   },
   "outputs": [],
   "source": [
    "# create and display the button\n",
    "button3 = widgets.Button(description=\"Show Tokens of Conflicting Editors\", layout=Layout(width='250px'))\n",
    "display(button3)\n",
    "\n",
    "def on_click_token_conflict(b):\n",
    "    global listener\n",
    "    with out3:\n",
    "        if len(editors) == 0:\n",
    "            print('There is no other registered conflicting editor. Please try another one!')\n",
    "        else:\n",
    "            clear_output()\n",
    "            display(md(f\"***Editor: {the_editor['name']}***\"))\n",
    "\n",
    "            # listener\n",
    "            listener = WCListener(sources={\"tokens_source\": sources}, lng=lng_selected, specific_editor=str(editor_inputname), conflict_editor=editors)\n",
    "            actions_all = remove_stopwords(sources[\"tokens_all\"], lng=lng_selected)\n",
    "            # visualization\n",
    "            interact(listener.listen, \n",
    "                     #_range=get_date_slider_from_datetime(editor_conflicts['rev_time']),\n",
    "                     _range1=widgets.DatePicker(description='Date starts', value=actions_all.sort_values('rev_time')['rev_time'].iloc[0], layout=Layout(width='25%')),\n",
    "                     _range2=widgets.DatePicker(description='Date ends', value=actions_all.sort_values('rev_time')['rev_time'].iloc[-1], layout=Layout(width='25%')),\n",
    "                     editor=Dropdown(options=['All']  + editors['name'].values.tolist(), value='All', layout={'width': '400px'}),\n",
    "                     source=Dropdown(options=['Elegible Actions', 'Only Conflicts'], value= 'Elegible Actions', layout={'width': '400px'}),\n",
    "                     action=Dropdown(options=['Both', 'Just Insertions', 'Just Deletions'], value='Both', layout={'width': '400px'}),\n",
    "                     stopwords = widgets.RadioButtons(options=['Not included', 'Included'], value='Not included', description='Stopwords', layout={'width': '50%'}))\n",
    "\n",
    "out3 = Output()\n",
    "display(out3)\n",
    "\n",
    "# set the event\n",
    "button3.on_click(on_click_token_conflict)\n",
    "\n",
    "# trigger the event with the default value\n",
    "on_click_token_conflict(button3)"
   ]
  },
  {
   "cell_type": "markdown",
   "metadata": {
    "hide_input": false,
    "solution2": "hidden",
    "solution2_first": true
   },
   "source": [
    "<span style=\"color: #626262\"> Try yourself! This is what will happen when you click 'Show Tokens of Conflicting Editors' button: </span>"
   ]
  },
  {
   "cell_type": "code",
   "execution_count": null,
   "metadata": {
    "solution2": "hidden"
   },
   "outputs": [],
   "source": [
    "### ---------------------------------------------------------------------------------------------------- ###\n",
    "### TRY YOURSELF! THIS IS WHAT WILL HAPPEN WHEN YOU CLICK 'Show Tokens of Conflicting Editors' BUTTON ###\n",
    "### ---------------------------------------------------------------------------------------------------- ###\n",
    "\n",
    "## This is the page you used and the editor you select in the above grid. ##\n",
    "print('The page that is being used:', the_page['title'], f'({lng_selected.upper()})')\n",
    "print('Selected editor:', editor_info['name'])\n",
    "\n",
    "## First check if the list is empty. ##\n",
    "if len(final_editors) == 0:\n",
    "    print('There is no other registered conflicting editor. Please try another one!')\n",
    "else:\n",
    "    print('Available Conflicting Editors:', final_editors['name'].tolist())\n",
    "    \n",
    "    ## WordCloud, core visual code lies in WCListener, then the interact function               ##\n",
    "    ## make it interactive, mode details see:                                                   ##\n",
    "    ## https://github.com/gesiscss/wikiwho_demo/blob/master/visualization/wordcloud_listener.py ##\n",
    "\n",
    "    # Create a WCListener instance\n",
    "    wclistener = WCListener(sources={\"tokens_source\": sources}, lng=lng_selected, specific_editor=str(editor_info['userid']), conflict_editor=final_editors)\n",
    "    \n",
    "    # Visualization: you could also perform it by coding!\n",
    "    begin_date = date(2002, 3, 1)\n",
    "    end_date = date(2019, 7, 4)\n",
    "    editor='All' # Select one conflicting name from the above name list, or 'All'!\n",
    "    actions_source='Elegible Actions' # 'Elegible Actions', 'Only Conflicts'\n",
    "    action_type='Both' # 'Just Insertions', 'Just Deletions', 'Both'\n",
    "    stopwords='Not included'  # 'Not included', 'Included'\n",
    "    \n",
    "    print('Time range from', begin_date.strftime(\"%Y-%m-%d\"), 'to', end_date.strftime(\"%Y-%m-%d\"))\n",
    "    print(\"Current editor's name is\", editor)\n",
    "    \n",
    "    wclistener.listen(\n",
    "         _range1=begin_date, \n",
    "         _range2=end_date,\n",
    "         source=actions_source,\n",
    "         action=action_type,\n",
    "         editor=editor,\n",
    "         stopwords=stopwords)"
   ]
  },
  {
   "cell_type": "code",
   "execution_count": null,
   "metadata": {
    "hide_input": true
   },
   "outputs": [],
   "source": [
    "from IPython.display import HTML\n",
    "from utils.notebooks import get_next_notebook\n",
    "\n",
    "display(HTML(f'<a href=\"{get_next_notebook()}\" target=\"_blank\">Go to next workbook</a>'))\n",
    "\n",
    "re_hide = \"\"\"\n",
    "<script>\n",
    "var update_input_visibility = function () {\n",
    "    Jupyter.notebook.get_cells().forEach(function(cell) {\n",
    "        if (cell.metadata.hide_input) {\n",
    "            cell.element.find(\"div.input\").hide();\n",
    "        }\n",
    "    })\n",
    "};\n",
    "update_input_visibility();\n",
    "</script\n",
    "\"\"\"\n",
    "display(HTML(re_hide))\n",
    "\n",
    "scroll_to_top = \"\"\"\n",
    "<script>\n",
    "document.getElementById('notebook').scrollIntoView();\n",
    "</script\n",
    "\"\"\"\n",
    "display(HTML(scroll_to_top))"
   ]
  }
 ],
 "metadata": {
  "hide_input": false,
  "kernelspec": {
   "display_name": "Python 3",
   "language": "python",
   "name": "python3"
  },
  "language_info": {
   "codemirror_mode": {
    "name": "ipython",
    "version": 3
   },
   "file_extension": ".py",
   "mimetype": "text/x-python",
   "name": "python",
   "nbconvert_exporter": "python",
   "pygments_lexer": "ipython3"
  }
 },
 "nbformat": 4,
 "nbformat_minor": 2
}
