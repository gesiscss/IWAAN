{
 "cells": [
  {
   "cell_type": "markdown",
   "metadata": {},
   "source": [
    "This notebook is designed to implement Biterm Topic Model as proposed <a href=\"http://citeseerx.ist.psu.edu/viewdoc/download?doi=10.1.1.402.4032&rep=rep1&type=pdf\">in this paper</a>. It uses a stored pickle of a page in English from data folder. It is a deprecated version of the Topic Modelling notebook (C++ is a more efficient one).</br>\n",
    "\n",
    "<a href=\"https://github.com/markoarnauto/biterm\">The Github link</a> to the biterm library utilized here."
   ]
  },
  {
   "cell_type": "code",
   "execution_count": null,
   "metadata": {},
   "outputs": [],
   "source": [
    "import pandas as pd\n",
    "from utils.lngselection import abbreviation\n",
    "from wikiwho_wrapper import WikiWho\n",
    "from external.wikipedia import WikipediaDV, WikipediaAPI\n",
    "from metrics.conflict import ConflictManager\n",
    "import numpy as np\n",
    "import pyLDAvis\n",
    "import random\n",
    "from sklearn.feature_extraction.text import CountVectorizer\n",
    "from biterm.utility import vec_to_biterms, topic_summuary\n",
    "from biterm.btm import oBTM"
   ]
  },
  {
   "cell_type": "markdown",
   "metadata": {},
   "source": [
    "Loading the page pickle:"
   ]
  },
  {
   "cell_type": "code",
   "execution_count": null,
   "metadata": {},
   "outputs": [],
   "source": [
    "%%capture\n",
    "## Some Extensions ##\n",
    "%load_ext autoreload\n",
    "%autoreload 2\n",
    "%store -r the_page\n",
    "\n",
    "if 'the_page' not in locals():\n",
    "    import pickle\n",
    "    print(\"Loading default data...\")\n",
    "    the_page = pickle.load(open(\"data/the_page.p\",'rb'))\n",
    "\n",
    "lng = abbreviation('English')"
   ]
  },
  {
   "cell_type": "markdown",
   "metadata": {},
   "source": [
    "Initiating a wikiwho instance. Retrieving `all_content` for each token that has been changed and `revisions` for data about each revision. "
   ]
  },
  {
   "cell_type": "code",
   "execution_count": null,
   "metadata": {},
   "outputs": [],
   "source": [
    "wikiwho = WikiWho(lng=lng)\n",
    "all_content = wikiwho.dv.all_content(the_page['page_id'])\n",
    "revisions = wikiwho.dv.rev_ids_of_article(the_page['page_id'])"
   ]
  },
  {
   "cell_type": "markdown",
   "metadata": {},
   "source": [
    "`ConflictManager` is used to retrieve conflicts and conflicting tokens. Dataframe `token` contains all tokens that have been changed on the page with information on revisions, original insertions and editors. `Tokens_processed` is a dataframe where revisions are grouped together and lists of token_ids correspond to each of them. In other words, the format of each row is a rev_id and list of token_ids."
   ]
  },
  {
   "cell_type": "code",
   "execution_count": null,
   "metadata": {},
   "outputs": [],
   "source": [
    "con_manager = ConflictManager(all_content.copy(), \n",
    "                                           revisions.copy(), \n",
    "                                           lng=lng, \n",
    "                                           include_stopwords=False)"
   ]
  },
  {
   "cell_type": "code",
   "execution_count": null,
   "metadata": {},
   "outputs": [],
   "source": [
    "con_manager.calculate()\n",
    "token = con_manager.all_actions.copy()\n",
    "tokens_processed = token[['rev_id', 'rev_time', 'editor', 'token_id', 'token']].groupby(\"rev_id\")['token_id'].apply(lambda group_series: group_series.to_numpy()).reset_index()\n",
    "tokens_processed['token_id']"
   ]
  },
  {
   "cell_type": "markdown",
   "metadata": {},
   "source": [
    "If a revision contains only one token, that has been changed, this token_id is appended to either previous or next revision. `token_ids` contains a list of all unique token_ids. `X_new` is a a numpy array where each row is an array of length by the number of unique token_ids. Each array contains 1 if corresponding token_id is presented in this revision and 0 otherwise. In other words, from list of token_ids a matrix is created of term frequencies."
   ]
  },
  {
   "cell_type": "code",
   "execution_count": null,
   "metadata": {},
   "outputs": [],
   "source": [
    "\n",
    "#this is used for vectorizing tokenized lists\n",
    "def dummy(doc):\n",
    "    return doc\n",
    "vec = CountVectorizer(\n",
    "        tokenizer=dummy,\n",
    "        preprocessor=dummy,\n",
    "    )  \n",
    "\n",
    "#this loop randomly appends lists with 1 token_id to the previous or next revision\n",
    "for i, row in tokens_processed[np.array(list(map(len,tokens_processed.token_id.values)))==1].iterrows():\n",
    "    k = random.choice([-1, 1])\n",
    "    np.append(tokens_processed.loc[i+k, 'token_id'], row['token_id'][0])\n",
    "    \n",
    "tokens_processed = tokens_processed[np.array(list(map(len,tokens_processed.token_id.values)))>1] #now dropping revisions with 1 token_id\n",
    "token_ids = token[['token', 'token_id']].drop_duplicates()['token_id'].to_numpy() \n",
    "#tokens_processed.drop(443, inplace=True)\n",
    "#tokens_processed.reset_index(inplace=True)\n",
    "#X_old = vec.fit_transform(tokens_processed['token_id'].tolist()).toarray()\n",
    "X = tokens_processed['token_id'].to_numpy()\n",
    "X_new = np.empty([1, len(token_ids)], dtype=int)\n",
    "for x in X:\n",
    "    X_new = np.append(X_new, [[1 if i in x else 0 for i in token_ids]], axis=0)\n",
    "    \n",
    "X_new = np.delete(X_new, 0, 0)"
   ]
  },
  {
   "cell_type": "code",
   "execution_count": null,
   "metadata": {},
   "outputs": [],
   "source": [
    "X_new"
   ]
  },
  {
   "cell_type": "markdown",
   "metadata": {},
   "source": [
    "Then vocabulary and biterms are extracted to match the btm requirements. <a href=\"https://github.com/markoarnauto/biterm/blob/master/biterm/utility.py#L7\">Function code</a>."
   ]
  },
  {
   "cell_type": "code",
   "execution_count": null,
   "metadata": {},
   "outputs": [],
   "source": [
    "#vocab = np.array(vec.get_feature_names())\n",
    "vocab = token[['token', 'token_id']].drop_duplicates()['token'].to_numpy()\n",
    "biterms = vec_to_biterms(X_new)"
   ]
  },
  {
   "cell_type": "markdown",
   "metadata": {},
   "source": [
    "Creating a BTM and passing the biterms to train it. Please keep in mind this process takes some time (approximately 5 hours for The Camp of the Saints article). Gibbs sampling is used. <a href=\"https://github.com/markoarnauto/biterm/blob/master/biterm/btm.py\">Biterm Topic Model code</a>. Alpha and beta are hyperparameters and l is used for tuning alpha and beta after fitting."
   ]
  },
  {
   "cell_type": "code",
   "execution_count": null,
   "metadata": {},
   "outputs": [],
   "source": [
    "btm = oBTM(num_topics=30, V=vocab, alpha = 0.1, beta = 0.01) #default alpha=1., beta=0.01, l=0.5\n",
    "topics = btm.fit_transform(biterms, iterations=100)"
   ]
  },
  {
   "cell_type": "markdown",
   "metadata": {},
   "source": [
    "Using LDA visualization to display the topics and most frequent words. The plot is also saved "
   ]
  },
  {
   "cell_type": "code",
   "execution_count": null,
   "metadata": {},
   "outputs": [],
   "source": [
    "vis = pyLDAvis.prepare(btm.phi_wz.T, topics, np.count_nonzero(X_new, axis=1), vocab, np.sum(X_new, axis=0))\n",
    "\n",
    "pyLDAvis.save_html(vis, 'topic_modelling_03_07.html')  # path to output\n",
    "\n",
    "#print(\"\\n\\n Topic coherence ..\")\n",
    "#topic_summuary(btm.phi_wz.T, X, vocab, 10)\n"
   ]
  },
  {
   "cell_type": "code",
   "execution_count": null,
   "metadata": {},
   "outputs": [],
   "source": [
    "pyLDAvis.display(vis)"
   ]
  },
  {
   "cell_type": "code",
   "execution_count": null,
   "metadata": {},
   "outputs": [],
   "source": []
  }
 ],
 "metadata": {
  "kernelspec": {
   "display_name": "Python 3",
   "language": "python",
   "name": "python3"
  },
  "language_info": {
   "codemirror_mode": {
    "name": "ipython",
    "version": 3
   },
   "file_extension": ".py",
   "mimetype": "text/x-python",
   "name": "python",
   "nbconvert_exporter": "python",
   "pygments_lexer": "ipython3"
  }
 },
 "nbformat": 4,
 "nbformat_minor": 2
}
